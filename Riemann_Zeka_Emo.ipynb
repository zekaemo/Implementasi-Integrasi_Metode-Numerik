{
  "nbformat": 4,
  "nbformat_minor": 0,
  "metadata": {
    "colab": {
      "provenance": [],
      "authorship_tag": "ABX9TyPUj1pxira/MZR2ogVYjPyd",
      "include_colab_link": true
    },
    "kernelspec": {
      "name": "python3",
      "display_name": "Python 3"
    },
    "language_info": {
      "name": "python"
    }
  },
  "cells": [
    {
      "cell_type": "markdown",
      "metadata": {
        "id": "view-in-github",
        "colab_type": "text"
      },
      "source": [
        "<a href=\"https://colab.research.google.com/github/zekaemo/Implementasi-Integrasi_Metode-Numerik/blob/main/Riemann_Zeka_Emo.ipynb\" target=\"_parent\"><img src=\"https://colab.research.google.com/assets/colab-badge.svg\" alt=\"Open In Colab\"/></a>"
      ]
    },
    {
      "cell_type": "code",
      "execution_count": 23,
      "metadata": {
        "id": "-AUOFPsUAS0P"
      },
      "outputs": [],
      "source": [
        "import numpy as np\n",
        "import time\n",
        "import matplotlib.pyplot as plt\n",
        "\n",
        "\n"
      ]
    },
    {
      "cell_type": "code",
      "source": [
        "pi_const = 3.14159265358979323846"
      ],
      "metadata": {
        "id": "iJ-IRaZMQ0Du"
      },
      "execution_count": 24,
      "outputs": []
    },
    {
      "cell_type": "code",
      "source": [
        "# Fungsi yang akan diintegrasikan\n",
        "def f(x):\n",
        "    return 4 / (1 + x**2)\n"
      ],
      "metadata": {
        "id": "ixsL6B9GAa7k"
      },
      "execution_count": 25,
      "outputs": []
    },
    {
      "cell_type": "code",
      "source": [
        "# Metode integrasi Riemann\n",
        "def riemann_integral(N):\n",
        "    start_time = time.time()  # Mulai pengukuran waktu\n",
        "    x = np.linspace(0, 1, N + 1)  # Membagi interval [0, 1] menjadi N subinterval\n",
        "    dx = 1 / N  # Lebar tiap subinterval\n",
        "    mid_points = (x[:-1] + x[1:]) / 2  # Titik tengah dari tiap subinterval\n",
        "    integral_value = np.sum(f(mid_points) * dx)  # Kalkulasi integral dengan metode Riemann\n",
        "    end_time = time.time()  # Akhir pengukuran waktu\n",
        "\n",
        "    execution_time = end_time - start_time  # Waktu eksekusi\n",
        "    rms_error = np.sqrt(np.mean((integral_value - pi_const)**2))  # Galat RMS\n",
        "\n",
        "    return integral_value, rms_error, execution_time\n"
      ],
      "metadata": {
        "id": "QQcVt2ksAhhk"
      },
      "execution_count": 26,
      "outputs": []
    },
    {
      "cell_type": "code",
      "source": [
        "# Nilai N yang akan digunakan\n",
        "N_values = [10, 100, 1000, 10000]"
      ],
      "metadata": {
        "id": "89Kpz7UuAkv6"
      },
      "execution_count": 27,
      "outputs": []
    },
    {
      "cell_type": "code",
      "source": [
        "# Kalkulasi integral, galat RMS, dan waktu eksekusi untuk tiap N\n",
        "results = {}\n",
        "for N in N_values:\n",
        "    integral_value, rms_error, execution_time = riemann_integral(N)\n",
        "    results[N] = {\n",
        "        'Integral Value': integral_value,\n",
        "        'RMS Error': rms_error,\n",
        "        'Execution Time': execution_time\n",
        "    }\n"
      ],
      "metadata": {
        "id": "aE26-rlkAory"
      },
      "execution_count": 28,
      "outputs": []
    },
    {
      "cell_type": "code",
      "source": [
        "# Tampilkan hasil\n",
        "for N, result in results.items():\n",
        "    print(f\"N = {N}\")\n",
        "    print(f\"  Nilai pi: {result['Integral Value']}\")\n",
        "    print(f\"  Galat RMS: {result['RMS Error']}\")\n",
        "    print(f\"  Waktu Eksekusi: {result['Execution Time']} detik\")\n",
        "    print()\n"
      ],
      "metadata": {
        "id": "mOCmOf9RAtZN",
        "outputId": "a885fb07-f883-4c47-a58c-6e7d15ce7e38",
        "colab": {
          "base_uri": "https://localhost:8080/"
        }
      },
      "execution_count": 29,
      "outputs": [
        {
          "output_type": "stream",
          "name": "stdout",
          "text": [
            "N = 10\n",
            "  Nilai pi: 3.142425985001098\n",
            "  Galat RMS: 0.0008333314113047052\n",
            "  Waktu Eksekusi: 0.0004048347473144531 detik\n",
            "\n",
            "N = 100\n",
            "  Nilai pi: 3.141600986923125\n",
            "  Galat RMS: 8.333333331833614e-06\n",
            "  Waktu Eksekusi: 8.845329284667969e-05 detik\n",
            "\n",
            "N = 1000\n",
            "  Nilai pi: 3.1415927369231262\n",
            "  Galat RMS: 8.333333312293689e-08\n",
            "  Waktu Eksekusi: 9.322166442871094e-05 detik\n",
            "\n",
            "N = 10000\n",
            "  Nilai pi: 3.1415926544231265\n",
            "  Galat RMS: 8.333334022836425e-10\n",
            "  Waktu Eksekusi: 0.00023317337036132812 detik\n",
            "\n"
          ]
        }
      ]
    },
    {
      "cell_type": "code",
      "source": [],
      "metadata": {
        "id": "J2mmp-34XZXe"
      },
      "execution_count": null,
      "outputs": []
    }
  ]
}